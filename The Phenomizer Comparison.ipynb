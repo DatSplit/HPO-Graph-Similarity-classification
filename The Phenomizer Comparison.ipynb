{
 "cells": [
  {
   "cell_type": "code",
   "execution_count": 1,
   "metadata": {},
   "outputs": [],
   "source": [
    "import pandas as pd\n",
    "import os\n",
    "from query_phenomizer import utils"
   ]
  },
  {
   "cell_type": "code",
   "execution_count": 2,
   "metadata": {},
   "outputs": [],
   "source": [
    "#Credits to Sasja Westgeest for the code in this code block.\n",
    "\n",
    "class Update_HPO:\n",
    "    \n",
    "    def __init__(self, obo_file):\n",
    "        self.obo_file = obo_file\n",
    "        self.replacement_dict = self.create_dictionary_replacements()\n",
    "        self.non_phenotype_nodes = self.find_non_phenotype_nodes()\n",
    "   \n",
    "    def find_non_phenotype_nodes(self):\n",
    "        non_phenotype_nodes = set(['HP:0000005', 'HP:0012823', 'HP:0040279'])\n",
    "        \n",
    "        nodes_added = len(non_phenotype_nodes)\n",
    "        while nodes_added > 0:\n",
    "\n",
    "            hpobo = open(self.obo_file)\n",
    "            nodes_added = 0\n",
    "            term = ''\n",
    "\n",
    "            for line in hpobo:\n",
    "                if line.startswith('id'):\n",
    "                    term = line.split(': ')[1].split('\\n')[0]\n",
    "\n",
    "                elif line.startswith('is_a'):\n",
    "                    hpo_term = line.split(': ')[1].split(' !')[0]\n",
    "                    if hpo_term in non_phenotype_nodes and term not in non_phenotype_nodes:\n",
    "                        non_phenotype_nodes.add(term)\n",
    "                        nodes_added += 1\n",
    "        return non_phenotype_nodes\n",
    "\n",
    "\n",
    "    def create_dictionary_replacements(self):\n",
    "        hpobo = open(self.obo_file)\n",
    "        replacements = {} #key is replaced by value\n",
    "\n",
    "        term = ''\n",
    "\n",
    "        for line in hpobo:\n",
    "            if line.startswith('id'):\n",
    "                term = line.split(': ')[1].split('\\n')[0]\n",
    "\n",
    "            elif line.startswith('replaced_by'):\n",
    "                hpo_term = line.split(': ')[1].split('\\n')[0]\n",
    "                replacements[term] = hpo_term\n",
    "\n",
    "            elif line.startswith('alt_id'):\n",
    "                hpo_term = line.split(': ')[1].split('\\n')[0]\n",
    "                replacements[hpo_term] = term\n",
    "        return replacements\n",
    "\n",
    "    \n",
    "    def create_dictionary_id_name(self): #gebruik ik helemaal niet\n",
    "        hpobo = open(self.obo_file)\n",
    "        id_to_name = {}\n",
    "\n",
    "        term_id = ''\n",
    "\n",
    "        for line in hpobo:\n",
    "            if line.startswith('id'):\n",
    "                term_id = line.split(': ')[1].split('\\n')[0]\n",
    "\n",
    "            elif line.startswith('name'):\n",
    "                term_name = line.split(': ')[1].split('\\n')[0]\n",
    "                id_to_name[term_id] = term_name\n",
    "\n",
    "        return id_to_name\n",
    "    \n",
    "    def replace(self, term):\n",
    "        if term in self.replacement_dict.keys():\n",
    "            return self.replacement_dict[term]\n",
    "        else:\n",
    "            return term\n",
    "\n",
    "    \n",
    "    def delete_non_phenotype_nodes(self, term_list):\n",
    "        new_term_list = [i for i in term_list if i not in self.non_phenotype_nodes]\n",
    "        return new_term_list\n",
    "\n",
    "\n",
    "    def update_phenotype(self, patient):\n",
    "        replaced = [self.replace(term) for term in patient]\n",
    "        replaced_deleted = self.delete_non_phenotype_nodes(replaced)\n",
    "        return replaced_deleted"
   ]
  },
  {
   "cell_type": "code",
   "execution_count": 3,
   "metadata": {},
   "outputs": [],
   "source": [
    "pd.set_option(\"display.max_rows\", None, \"display.max_columns\", None)\n",
    "\n",
    "data = pd.read_pickle('C:/Users/niels/Downloads/patienten.pkl')"
   ]
  },
  {
   "cell_type": "code",
   "execution_count": 4,
   "metadata": {},
   "outputs": [],
   "source": [
    "\n",
    "obo_file = 'C:/Users/niels/Downloads\\hp.obo'\n"
   ]
  },
  {
   "cell_type": "code",
   "execution_count": 5,
   "metadata": {},
   "outputs": [],
   "source": [
    "#Credits to Sasja Westgeest for the code in this code block.\n",
    "\n",
    "updater = Update_HPO(obo_file)\n",
    "for index in range(len(data['hpo_all'])):\n",
    "    data['hpo_all'][index] = updater.update_phenotype(data['hpo_all'][index])\n",
    "    data['hpo_all_with_parents'][index] = updater.update_phenotype(data['hpo_all_with_parents'][index])\n",
    "    data['label'][index] = data['label'][index].replace(\"_\", \"\")"
   ]
  },
  {
   "cell_type": "code",
   "execution_count": 6,
   "metadata": {},
   "outputs": [],
   "source": [
    "omim_genes = {\n",
    "    'OMIM:148050' : 'ankrd',\n",
    "    'OMIM:300958' : 'ddx3x',\n",
    "    'OMIM:610443' : 'kansl1',\n",
    "    'OMIM:611867' : '22q11',\n",
    "    'OMIM:614104' : 'dyrk1a',\n",
    "    'OMIM:615009' : 'pacs1',\n",
    "    'OMIM:615873' : 'adnp',\n",
    "    'OMIM:616158' : 'pura',\n",
    "    'OMIM:616708' : 'wac',\n",
    "    'OMIM:617140' : 'son',\n",
    "    'OMIM:618846' : 'kdm3b', \n",
    "    'OMIM:618829' : 'spop_2',\n",
    "    'OMIM:618828' : 'spop_1',\n",
    "    'OMIM:617854' : 'cltc',\n",
    "    'OMIM:617557' : 'yy1',\n",
    "    'OMIM:617450' : 'ppm1d'\n",
    "}\n",
    "\n",
    "diseases = list(omim_genes.keys())"
   ]
  },
  {
   "cell_type": "code",
   "execution_count": 7,
   "metadata": {
    "scrolled": true
   },
   "outputs": [],
   "source": [
    "\n",
    "diagnoses_database = {}\n",
    "genes_database = {}\n",
    "for index in range(len(data['hpo_all'])):\n",
    "    \n",
    "    separator = ', '\n",
    "    a = (separator.join(data['hpo_all'][index])) \n",
    "\n",
    "    result = utils.query_phenomizer('scout', 'scout123',  a)\n",
    "\n",
    "    diagnoses_omim = []\n",
    "    genes_l = []\n",
    "    for i in range(100):\n",
    "        omim = result.text.split('\\n')[6:][i].split('\\t')[2] #OMIM name\n",
    "        all_genes = (result.text.split('\\n')[6:][i].split('\\t')[4]) # GENE name\n",
    "        diagnoses_omim.append(omim)\n",
    "        genes_l.append(all_genes)\n",
    "        diagnoses_database[index] = diagnoses_omim\n",
    "        genes_database[index] = genes_l\n"
   ]
  },
  {
   "cell_type": "code",
   "execution_count": null,
   "metadata": {},
   "outputs": [],
   "source": []
  },
  {
   "cell_type": "code",
   "execution_count": 11,
   "metadata": {
    "scrolled": false
   },
   "outputs": [
    {
     "name": "stdout",
     "output_type": "stream",
     "text": [
      "Percentage of correct predictions in top 100 candidate diseases: 4.2 %\n"
     ]
    }
   ],
   "source": [
    "counter = 0\n",
    "for i in diagnoses_database.keys():\n",
    "    diagnoses = diagnoses_database[i]\n",
    "    for j in diagnoses:\n",
    "        if j in diseases:\n",
    "            if omim_genes.get(j) == data['label'][i]:\n",
    "                counter += 1\n",
    "                if omim_genes.get(j) != data['label'][i]:\n",                    
    "                    for k in range(100):\n",
    "                        if data['label'][i].upper() in genes_database[i][k]:\n",
    "                            counter += 1\n",
    "\n",
    "print('Percentage of correct predictions in top 100 candidate diseases:', round(counter/(len(data['hpo_all']))*100,1),'%')"
   ]
  },
  {
   "cell_type": "code",
   "execution_count": null,
   "metadata": {},
   "outputs": [],
   "source": []
  },
  {
   "cell_type": "code",
   "execution_count": null,
   "metadata": {},
   "outputs": [],
   "source": []
  },
  {
   "cell_type": "code",
   "execution_count": null,
   "metadata": {},
   "outputs": [],
   "source": []
  }
 ],
 "metadata": {
  "kernelspec": {
   "display_name": "Python 3 (ipykernel)",
   "language": "python",
   "name": "python3"
  },
  "language_info": {
   "codemirror_mode": {
    "name": "ipython",
    "version": 3
   },
   "file_extension": ".py",
   "mimetype": "text/x-python",
   "name": "python",
   "nbconvert_exporter": "python",
   "pygments_lexer": "ipython3",
   "version": "3.8.12"
  }
 },
 "nbformat": 4,
 "nbformat_minor": 4
}
